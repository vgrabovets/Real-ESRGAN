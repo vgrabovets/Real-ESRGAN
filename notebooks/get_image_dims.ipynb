{
 "cells": [
  {
   "cell_type": "code",
   "execution_count": null,
   "id": "initial_id",
   "metadata": {
    "collapsed": true
   },
   "outputs": [],
   "source": [
    "import glob\n",
    "import os\n",
    "\n",
    "import cv2\n",
    "from path import Path\n",
    "from tqdm import tqdm"
   ]
  },
  {
   "cell_type": "code",
   "execution_count": null,
   "outputs": [],
   "source": [
    "os.chdir('..')"
   ],
   "metadata": {
    "collapsed": false
   },
   "id": "60a55383381d6cfe"
  },
  {
   "cell_type": "code",
   "execution_count": null,
   "outputs": [],
   "source": [
    "FOLDER = Path('/media/vitaliy/Samsung_T5/y')\n",
    "SAVE_FILE = FOLDER / 'img_dims.tsv'"
   ],
   "metadata": {
    "collapsed": false
   },
   "id": "ee0336d1468a1d4f"
  },
  {
   "cell_type": "code",
   "execution_count": null,
   "outputs": [],
   "source": [
    "paths = glob.glob(os.path.join(FOLDER, '**', '*'), recursive=True)"
   ],
   "metadata": {
    "collapsed": false
   },
   "id": "85c96ef0e8239e9f"
  },
  {
   "cell_type": "code",
   "execution_count": null,
   "outputs": [],
   "source": [
    "paths_from_file: set[str] = set()\n",
    "if SAVE_FILE.exists():\n",
    "    with open(SAVE_FILE, mode='rt', encoding='utf-8') as fp:\n",
    "        for line in fp:\n",
    "            paths_from_file.add(line.strip().split('\\t')[0])"
   ],
   "metadata": {
    "collapsed": false
   },
   "id": "46a00b4afc401950"
  },
  {
   "cell_type": "code",
   "execution_count": null,
   "outputs": [],
   "source": [
    "cnt = 0\n",
    "existing_short_paths = set()\n",
    "\n",
    "with open(SAVE_FILE, 'at', encoding='utf-8') as fp:\n",
    "    for path in tqdm(paths):\n",
    "        short_path = FOLDER.relpathto(path)\n",
    "        existing_short_paths.add(short_path)\n",
    "        \n",
    "        if short_path in paths_from_file:\n",
    "            continue\n",
    "        \n",
    "        img_name, extension = os.path.splitext(os.path.basename(path))\n",
    "    \n",
    "        if extension.lower() not in ('.jpg', '.jpeg', '.png'):\n",
    "            continue\n",
    "    \n",
    "        img = cv2.imread(path, cv2.IMREAD_UNCHANGED)\n",
    "        dims = img.shape\n",
    "        fp.write(f'{short_path}\\t{dims[0]}\\t{dims[1]}\\n')\n",
    "        cnt += 1\n",
    "        \n",
    "print(f'processed: {cnt} files')"
   ],
   "metadata": {
    "collapsed": false
   },
   "id": "f302fbebe436da27"
  },
  {
   "cell_type": "markdown",
   "source": [
    "# Get statistics"
   ],
   "metadata": {
    "collapsed": false
   },
   "id": "477fb46ec3456402"
  },
  {
   "cell_type": "code",
   "execution_count": null,
   "outputs": [],
   "source": [
    "grouped_by_height = {}\n",
    "\n",
    "with open(SAVE_FILE, mode='rt', encoding='utf-8') as fp:\n",
    "    for line in fp:\n",
    "        image_short_path, height, _ = line.strip().split('\\t')\n",
    "        \n",
    "        if image_short_path not in existing_short_paths:\n",
    "            continue\n",
    "        \n",
    "        height = int(height)\n",
    "        folder = str(Path(image_short_path).parent)\n",
    "        \n",
    "        if height not in grouped_by_height:\n",
    "            grouped_by_height[height] = {'folders': set(), 'files': set()}\n",
    "        \n",
    "        grouped_by_height[height]['folders'].add(folder)\n",
    "        grouped_by_height[height]['files'].add(image_short_path)"
   ],
   "metadata": {
    "collapsed": false
   },
   "id": "d4c87ec45893bc2f"
  },
  {
   "cell_type": "code",
   "execution_count": null,
   "outputs": [],
   "source": [
    "for height in sorted(grouped_by_height.keys(), reverse=False)[:5]:\n",
    "    folders = sorted(grouped_by_height[height]['folders'])\n",
    "    files = [str(FOLDER / file) for file in sorted(grouped_by_height[height]['files'])]\n",
    "    print(f'height: {height}\\nfolders: {folders}\\nfiles: {files}\\n\\n')"
   ],
   "metadata": {
    "collapsed": false
   },
   "id": "61d134da3b46a486"
  },
  {
   "cell_type": "code",
   "execution_count": null,
   "outputs": [],
   "source": [
    "!python inference_realesrgan.py -n RealESRGAN_x4plus -i \"/media/vitaliy/Samsung_T5/\" \\\n",
    "--outscale 4 --min_height 400 --suffix upscaled --face_enhance --save_logs"
   ],
   "metadata": {
    "collapsed": false
   },
   "id": "2574d0f6611ab56f"
  }
 ],
 "metadata": {
  "kernelspec": {
   "display_name": "Python 3",
   "language": "python",
   "name": "python3"
  },
  "language_info": {
   "codemirror_mode": {
    "name": "ipython",
    "version": 2
   },
   "file_extension": ".py",
   "mimetype": "text/x-python",
   "name": "python",
   "nbconvert_exporter": "python",
   "pygments_lexer": "ipython2",
   "version": "2.7.6"
  }
 },
 "nbformat": 4,
 "nbformat_minor": 5
}
